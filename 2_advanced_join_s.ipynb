{
 "cells": [
  {
   "cell_type": "markdown",
   "metadata": {
    "toc": true
   },
   "source": [
    "<h1>Table of Contents<span class=\"tocSkip\"></span></h1>\n",
    "<div class=\"toc\"><ul class=\"toc-item\"><li><span><a href=\"#Data-Integration-:-Joining-(Merging)-Different-Sources\" data-toc-modified-id=\"Data-Integration-:-Joining-(Merging)-Different-Sources-1\"><span class=\"toc-item-num\">1&nbsp;&nbsp;</span>Data Integration : Joining (Merging) Different Sources</a></span><ul class=\"toc-item\"><li><ul class=\"toc-item\"><li><span><a href=\"#Why?\" data-toc-modified-id=\"Why?-1.0.1\"><span class=\"toc-item-num\">1.0.1&nbsp;&nbsp;</span>Why?</a></span></li><li><span><a href=\"#How?\" data-toc-modified-id=\"How?-1.0.2\"><span class=\"toc-item-num\">1.0.2&nbsp;&nbsp;</span>How?</a></span></li></ul></li></ul></li><li><span><a href=\"#Example:-Merging-Datasets\" data-toc-modified-id=\"Example:-Merging-Datasets-2\"><span class=\"toc-item-num\">2&nbsp;&nbsp;</span>Example: Merging Datasets</a></span></li></ul></div>"
   ]
  },
  {
   "cell_type": "markdown",
   "metadata": {},
   "source": [
    "# Data Integration : Joining (Merging) Different Sources\n",
    "### Why?\n",
    "Consider this:\n",
    "* Which department in your organization is likely to have CUSTOMER table or information? Marketing dept\n",
    "* Which department in your organization is likely to have ORDER table or information? Supply chain / Operations management dept\n",
    "* To find out “valuable customers”, you need to “merge” various data sources and have “a single truth” (= a single database or table)\n",
    "* Joining different data sources provides more insights about consumers, products, markets, and other areas/topics. This is an important skill for “everyone”\n",
    "\n",
    "### How?\n",
    "You can acquire datasets from different data sources, including social media websites, data brokers, data service providers, etc. Then, use one of these **join** methods\n",
    "\n",
    "* inner join (most common)\n",
    "* left join \n",
    "* right join"
   ]
  },
  {
   "cell_type": "markdown",
   "metadata": {},
   "source": [
    "<img src=\"images\\ppt\\Slide10.gif\">\n",
    "In this example, DepartmentID is called \"**the primary key**\" or \"**the common key**\". This column is used to join two datasets.\n",
    "\n",
    "<img src=\"images\\ppt\\Slide11.gif\">\n",
    "<img src=\"images\\ppt\\Slide12.gif\">"
   ]
  },
  {
   "cell_type": "markdown",
   "metadata": {},
   "source": [
    "Resources on Joining Datasets using Python Pandas\n",
    "* http://pandas.pydata.org/pandas-docs/stable/merging.html"
   ]
  },
  {
   "cell_type": "code",
   "execution_count": 1,
   "metadata": {},
   "outputs": [
    {
     "data": {
      "image/jpeg": "[encoded data removed]",
      "text/html": [
       "\n",
       "        <iframe\n",
       "            width=\"400\"\n",
       "            height=\"300\"\n",
       "            src=\"https://www.youtube.com/embed/qAT_ina93NY\"\n",
       "            frameborder=\"0\"\n",
       "            allowfullscreen\n",
       "        ></iframe>\n",
       "        "
      ],
      "text/plain": [
       "<IPython.lib.display.YouTubeVideo at 0x1e2514b2d68>"
      ]
     },
     "execution_count": 1,
     "metadata": {},
     "output_type": "execute_result"
    }
   ],
   "source": [
    "from IPython.display import YouTubeVideo\n",
    "YouTubeVideo(\"qAT_ina93NY\")"
   ]
  },
  {
   "cell_type": "markdown",
   "metadata": {},
   "source": [
    "# Example: Merging Datasets"
   ]
  },
  {
   "cell_type": "code",
   "execution_count": 2,
   "metadata": {},
   "outputs": [],
   "source": [
    "# import packages\n",
    "import pandas as pd\n",
    "import numpy as np\n",
    "import matplotlib as plt\n",
    "%matplotlib inline"
   ]
  },
  {
   "cell_type": "code",
   "execution_count": 3,
   "metadata": {},
   "outputs": [
    {
     "data": {
      "text/html": [
       "<div>\n",
       "<style scoped>\n",
       "    .dataframe tbody tr th:only-of-type {\n",
       "        vertical-align: middle;\n",
       "    }\n",
       "\n",
       "    .dataframe tbody tr th {\n",
       "        vertical-align: top;\n",
       "    }\n",
       "\n",
       "    .dataframe thead th {\n",
       "        text-align: right;\n",
       "    }\n",
       "</style>\n",
       "<table border=\"1\" class=\"dataframe\">\n",
       "  <thead>\n",
       "    <tr style=\"text-align: right;\">\n",
       "      <th></th>\n",
       "      <th>CustomerID</th>\n",
       "      <th>FirstName</th>\n",
       "      <th>LastName</th>\n",
       "      <th>Email</th>\n",
       "      <th>DOB</th>\n",
       "      <th>Phone</th>\n",
       "    </tr>\n",
       "  </thead>\n",
       "  <tbody>\n",
       "    <tr>\n",
       "      <th>0</th>\n",
       "      <td>1</td>\n",
       "      <td>John</td>\n",
       "      <td>Smith</td>\n",
       "      <td>John.Smith@yahoo.com</td>\n",
       "      <td>24872</td>\n",
       "      <td>626 222-2222</td>\n",
       "    </tr>\n",
       "    <tr>\n",
       "      <th>1</th>\n",
       "      <td>2</td>\n",
       "      <td>Steven</td>\n",
       "      <td>Goldfish</td>\n",
       "      <td>goldfish@fishhere.net</td>\n",
       "      <td>27123</td>\n",
       "      <td>323 455-4545</td>\n",
       "    </tr>\n",
       "    <tr>\n",
       "      <th>2</th>\n",
       "      <td>3</td>\n",
       "      <td>Paula</td>\n",
       "      <td>Brown</td>\n",
       "      <td>pb@herowndomain.org</td>\n",
       "      <td>28634</td>\n",
       "      <td>416 323-3232</td>\n",
       "    </tr>\n",
       "    <tr>\n",
       "      <th>3</th>\n",
       "      <td>4</td>\n",
       "      <td>James</td>\n",
       "      <td>Smith</td>\n",
       "      <td>jim@supergig.co.uk</td>\n",
       "      <td>20/10/1980</td>\n",
       "      <td>416 323-8888</td>\n",
       "    </tr>\n",
       "  </tbody>\n",
       "</table>\n",
       "</div>"
      ],
      "text/plain": [
       "   CustomerID FirstName  LastName                  Email         DOB  \\\n",
       "0           1      John     Smith   John.Smith@yahoo.com       24872   \n",
       "1           2    Steven  Goldfish  goldfish@fishhere.net       27123   \n",
       "2           3     Paula     Brown    pb@herowndomain.org       28634   \n",
       "3           4     James     Smith     jim@supergig.co.uk  20/10/1980   \n",
       "\n",
       "          Phone  \n",
       "0  626 222-2222  \n",
       "1  323 455-4545  \n",
       "2  416 323-3232  \n",
       "3  416 323-8888  "
      ]
     },
     "execution_count": 3,
     "metadata": {},
     "output_type": "execute_result"
    }
   ],
   "source": [
    "# read data\n",
    "df1 = pd.read_excel('data/customertable.xls')\n",
    "df1"
   ]
  },
  {
   "cell_type": "code",
   "execution_count": 4,
   "metadata": {},
   "outputs": [
    {
     "data": {
      "text/html": [
       "<div>\n",
       "<style scoped>\n",
       "    .dataframe tbody tr th:only-of-type {\n",
       "        vertical-align: middle;\n",
       "    }\n",
       "\n",
       "    .dataframe tbody tr th {\n",
       "        vertical-align: top;\n",
       "    }\n",
       "\n",
       "    .dataframe thead th {\n",
       "        text-align: right;\n",
       "    }\n",
       "</style>\n",
       "<table border=\"1\" class=\"dataframe\">\n",
       "  <thead>\n",
       "    <tr style=\"text-align: right;\">\n",
       "      <th></th>\n",
       "      <th>CustomerID</th>\n",
       "      <th>Date</th>\n",
       "      <th>SaleAmount</th>\n",
       "    </tr>\n",
       "  </thead>\n",
       "  <tbody>\n",
       "    <tr>\n",
       "      <th>0</th>\n",
       "      <td>2</td>\n",
       "      <td>2004-05-06</td>\n",
       "      <td>100.22</td>\n",
       "    </tr>\n",
       "    <tr>\n",
       "      <th>1</th>\n",
       "      <td>1</td>\n",
       "      <td>2004-05-07</td>\n",
       "      <td>99.95</td>\n",
       "    </tr>\n",
       "    <tr>\n",
       "      <th>2</th>\n",
       "      <td>3</td>\n",
       "      <td>2004-05-07</td>\n",
       "      <td>122.95</td>\n",
       "    </tr>\n",
       "    <tr>\n",
       "      <th>3</th>\n",
       "      <td>3</td>\n",
       "      <td>2004-05-13</td>\n",
       "      <td>100.00</td>\n",
       "    </tr>\n",
       "    <tr>\n",
       "      <th>4</th>\n",
       "      <td>4</td>\n",
       "      <td>2004-05-22</td>\n",
       "      <td>555.55</td>\n",
       "    </tr>\n",
       "    <tr>\n",
       "      <th>5</th>\n",
       "      <td>5</td>\n",
       "      <td>2004-05-23</td>\n",
       "      <td>1000.00</td>\n",
       "    </tr>\n",
       "    <tr>\n",
       "      <th>6</th>\n",
       "      <td>6</td>\n",
       "      <td>2004-05-24</td>\n",
       "      <td>2000.00</td>\n",
       "    </tr>\n",
       "  </tbody>\n",
       "</table>\n",
       "</div>"
      ],
      "text/plain": [
       "   CustomerID       Date  SaleAmount\n",
       "0           2 2004-05-06      100.22\n",
       "1           1 2004-05-07       99.95\n",
       "2           3 2004-05-07      122.95\n",
       "3           3 2004-05-13      100.00\n",
       "4           4 2004-05-22      555.55\n",
       "5           5 2004-05-23     1000.00\n",
       "6           6 2004-05-24     2000.00"
      ]
     },
     "execution_count": 4,
     "metadata": {},
     "output_type": "execute_result"
    }
   ],
   "source": [
    "df2 = pd.read_excel('data/salestable.xls')\n",
    "df2"
   ]
  },
  {
   "cell_type": "markdown",
   "metadata": {},
   "source": [
    "CustomerID is called \"**the primary key**\" or \"**the common key**\". This column is used to join two datasets."
   ]
  },
  {
   "cell_type": "code",
   "execution_count": 5,
   "metadata": {},
   "outputs": [
    {
     "data": {
      "text/html": [
       "<div>\n",
       "<style scoped>\n",
       "    .dataframe tbody tr th:only-of-type {\n",
       "        vertical-align: middle;\n",
       "    }\n",
       "\n",
       "    .dataframe tbody tr th {\n",
       "        vertical-align: top;\n",
       "    }\n",
       "\n",
       "    .dataframe thead th {\n",
       "        text-align: right;\n",
       "    }\n",
       "</style>\n",
       "<table border=\"1\" class=\"dataframe\">\n",
       "  <thead>\n",
       "    <tr style=\"text-align: right;\">\n",
       "      <th></th>\n",
       "      <th>CustomerID</th>\n",
       "      <th>FirstName</th>\n",
       "      <th>LastName</th>\n",
       "      <th>Email</th>\n",
       "      <th>DOB</th>\n",
       "      <th>Phone</th>\n",
       "      <th>Date</th>\n",
       "      <th>SaleAmount</th>\n",
       "    </tr>\n",
       "  </thead>\n",
       "  <tbody>\n",
       "    <tr>\n",
       "      <th>0</th>\n",
       "      <td>1</td>\n",
       "      <td>John</td>\n",
       "      <td>Smith</td>\n",
       "      <td>John.Smith@yahoo.com</td>\n",
       "      <td>24872</td>\n",
       "      <td>626 222-2222</td>\n",
       "      <td>2004-05-07</td>\n",
       "      <td>99.95</td>\n",
       "    </tr>\n",
       "    <tr>\n",
       "      <th>1</th>\n",
       "      <td>2</td>\n",
       "      <td>Steven</td>\n",
       "      <td>Goldfish</td>\n",
       "      <td>goldfish@fishhere.net</td>\n",
       "      <td>27123</td>\n",
       "      <td>323 455-4545</td>\n",
       "      <td>2004-05-06</td>\n",
       "      <td>100.22</td>\n",
       "    </tr>\n",
       "    <tr>\n",
       "      <th>2</th>\n",
       "      <td>3</td>\n",
       "      <td>Paula</td>\n",
       "      <td>Brown</td>\n",
       "      <td>pb@herowndomain.org</td>\n",
       "      <td>28634</td>\n",
       "      <td>416 323-3232</td>\n",
       "      <td>2004-05-07</td>\n",
       "      <td>122.95</td>\n",
       "    </tr>\n",
       "    <tr>\n",
       "      <th>3</th>\n",
       "      <td>3</td>\n",
       "      <td>Paula</td>\n",
       "      <td>Brown</td>\n",
       "      <td>pb@herowndomain.org</td>\n",
       "      <td>28634</td>\n",
       "      <td>416 323-3232</td>\n",
       "      <td>2004-05-13</td>\n",
       "      <td>100.00</td>\n",
       "    </tr>\n",
       "    <tr>\n",
       "      <th>4</th>\n",
       "      <td>4</td>\n",
       "      <td>James</td>\n",
       "      <td>Smith</td>\n",
       "      <td>jim@supergig.co.uk</td>\n",
       "      <td>20/10/1980</td>\n",
       "      <td>416 323-8888</td>\n",
       "      <td>2004-05-22</td>\n",
       "      <td>555.55</td>\n",
       "    </tr>\n",
       "  </tbody>\n",
       "</table>\n",
       "</div>"
      ],
      "text/plain": [
       "   CustomerID FirstName  LastName                  Email         DOB  \\\n",
       "0           1      John     Smith   John.Smith@yahoo.com       24872   \n",
       "1           2    Steven  Goldfish  goldfish@fishhere.net       27123   \n",
       "2           3     Paula     Brown    pb@herowndomain.org       28634   \n",
       "3           3     Paula     Brown    pb@herowndomain.org       28634   \n",
       "4           4     James     Smith     jim@supergig.co.uk  20/10/1980   \n",
       "\n",
       "          Phone       Date  SaleAmount  \n",
       "0  626 222-2222 2004-05-07       99.95  \n",
       "1  323 455-4545 2004-05-06      100.22  \n",
       "2  416 323-3232 2004-05-07      122.95  \n",
       "3  416 323-3232 2004-05-13      100.00  \n",
       "4  416 323-8888 2004-05-22      555.55  "
      ]
     },
     "execution_count": 5,
     "metadata": {},
     "output_type": "execute_result"
    }
   ],
   "source": [
    "#when we say \"join\", we're referring to this type of join (inner join)\n",
    "\n",
    "#sames as \n",
    "df1.merge(df2, on='CustomerID', how='inner')"
   ]
  },
  {
   "cell_type": "code",
   "execution_count": 6,
   "metadata": {},
   "outputs": [],
   "source": [
    "#in this example, the result of left join is same as that of regular (or inner) joing"
   ]
  },
  {
   "cell_type": "code",
   "execution_count": 7,
   "metadata": {},
   "outputs": [
    {
     "data": {
      "text/html": [
       "<div>\n",
       "<style scoped>\n",
       "    .dataframe tbody tr th:only-of-type {\n",
       "        vertical-align: middle;\n",
       "    }\n",
       "\n",
       "    .dataframe tbody tr th {\n",
       "        vertical-align: top;\n",
       "    }\n",
       "\n",
       "    .dataframe thead th {\n",
       "        text-align: right;\n",
       "    }\n",
       "</style>\n",
       "<table border=\"1\" class=\"dataframe\">\n",
       "  <thead>\n",
       "    <tr style=\"text-align: right;\">\n",
       "      <th></th>\n",
       "      <th>CustomerID</th>\n",
       "      <th>FirstName</th>\n",
       "      <th>LastName</th>\n",
       "      <th>Email</th>\n",
       "      <th>DOB</th>\n",
       "      <th>Phone</th>\n",
       "      <th>Date</th>\n",
       "      <th>SaleAmount</th>\n",
       "    </tr>\n",
       "  </thead>\n",
       "  <tbody>\n",
       "    <tr>\n",
       "      <th>0</th>\n",
       "      <td>1</td>\n",
       "      <td>John</td>\n",
       "      <td>Smith</td>\n",
       "      <td>John.Smith@yahoo.com</td>\n",
       "      <td>24872</td>\n",
       "      <td>626 222-2222</td>\n",
       "      <td>2004-05-07</td>\n",
       "      <td>99.95</td>\n",
       "    </tr>\n",
       "    <tr>\n",
       "      <th>1</th>\n",
       "      <td>2</td>\n",
       "      <td>Steven</td>\n",
       "      <td>Goldfish</td>\n",
       "      <td>goldfish@fishhere.net</td>\n",
       "      <td>27123</td>\n",
       "      <td>323 455-4545</td>\n",
       "      <td>2004-05-06</td>\n",
       "      <td>100.22</td>\n",
       "    </tr>\n",
       "    <tr>\n",
       "      <th>2</th>\n",
       "      <td>3</td>\n",
       "      <td>Paula</td>\n",
       "      <td>Brown</td>\n",
       "      <td>pb@herowndomain.org</td>\n",
       "      <td>28634</td>\n",
       "      <td>416 323-3232</td>\n",
       "      <td>2004-05-07</td>\n",
       "      <td>122.95</td>\n",
       "    </tr>\n",
       "    <tr>\n",
       "      <th>3</th>\n",
       "      <td>3</td>\n",
       "      <td>Paula</td>\n",
       "      <td>Brown</td>\n",
       "      <td>pb@herowndomain.org</td>\n",
       "      <td>28634</td>\n",
       "      <td>416 323-3232</td>\n",
       "      <td>2004-05-13</td>\n",
       "      <td>100.00</td>\n",
       "    </tr>\n",
       "    <tr>\n",
       "      <th>4</th>\n",
       "      <td>4</td>\n",
       "      <td>James</td>\n",
       "      <td>Smith</td>\n",
       "      <td>jim@supergig.co.uk</td>\n",
       "      <td>20/10/1980</td>\n",
       "      <td>416 323-8888</td>\n",
       "      <td>2004-05-22</td>\n",
       "      <td>555.55</td>\n",
       "    </tr>\n",
       "    <tr>\n",
       "      <th>5</th>\n",
       "      <td>5</td>\n",
       "      <td>NaN</td>\n",
       "      <td>NaN</td>\n",
       "      <td>NaN</td>\n",
       "      <td>NaN</td>\n",
       "      <td>NaN</td>\n",
       "      <td>2004-05-23</td>\n",
       "      <td>1000.00</td>\n",
       "    </tr>\n",
       "    <tr>\n",
       "      <th>6</th>\n",
       "      <td>6</td>\n",
       "      <td>NaN</td>\n",
       "      <td>NaN</td>\n",
       "      <td>NaN</td>\n",
       "      <td>NaN</td>\n",
       "      <td>NaN</td>\n",
       "      <td>2004-05-24</td>\n",
       "      <td>2000.00</td>\n",
       "    </tr>\n",
       "  </tbody>\n",
       "</table>\n",
       "</div>"
      ],
      "text/plain": [
       "   CustomerID FirstName  LastName                  Email         DOB  \\\n",
       "0           1      John     Smith   John.Smith@yahoo.com       24872   \n",
       "1           2    Steven  Goldfish  goldfish@fishhere.net       27123   \n",
       "2           3     Paula     Brown    pb@herowndomain.org       28634   \n",
       "3           3     Paula     Brown    pb@herowndomain.org       28634   \n",
       "4           4     James     Smith     jim@supergig.co.uk  20/10/1980   \n",
       "5           5       NaN       NaN                    NaN         NaN   \n",
       "6           6       NaN       NaN                    NaN         NaN   \n",
       "\n",
       "          Phone       Date  SaleAmount  \n",
       "0  626 222-2222 2004-05-07       99.95  \n",
       "1  323 455-4545 2004-05-06      100.22  \n",
       "2  416 323-3232 2004-05-07      122.95  \n",
       "3  416 323-3232 2004-05-13      100.00  \n",
       "4  416 323-8888 2004-05-22      555.55  \n",
       "5           NaN 2004-05-23     1000.00  \n",
       "6           NaN 2004-05-24     2000.00  "
      ]
     },
     "execution_count": 7,
     "metadata": {},
     "output_type": "execute_result"
    }
   ],
   "source": [
    "#this is outer join (same as right join)\n",
    "\n",
    "# same as \n",
    "df1.merge(df2, on='CustomerID', how='right')"
   ]
  },
  {
   "cell_type": "code",
   "execution_count": 8,
   "metadata": {},
   "outputs": [],
   "source": [
    "# save the results of join\n",
    "df3 = df1.merge(df2, on='CustomerID', how='right')\n",
    "df3.to_csv(\"data/fd.csv\", index=False)"
   ]
  }
 ],
 "metadata": {
  "hide_input": false,
  "kernelspec": {
   "display_name": "Python 3",
   "language": "python",
   "name": "python3"
  },
  "language_info": {
   "codemirror_mode": {
    "name": "ipython",
    "version": 3
   },
   "file_extension": ".py",
   "mimetype": "text/x-python",
   "name": "python",
   "nbconvert_exporter": "python",
   "pygments_lexer": "ipython3",
   "version": "3.7.3"
  },
  "toc": {
   "base_numbering": 1,
   "nav_menu": {},
   "number_sections": true,
   "sideBar": true,
   "skip_h1_title": false,
   "title_cell": "Table of Contents",
   "title_sidebar": "Contents",
   "toc_cell": true,
   "toc_position": {},
   "toc_section_display": true,
   "toc_window_display": true
  },
  "varInspector": {
   "cols": {
    "lenName": 16,
    "lenType": 16,
    "lenVar": 40
   },
   "kernels_config": {
    "python": {
     "delete_cmd_postfix": "",
     "delete_cmd_prefix": "del ",
     "library": "var_list.py",
     "varRefreshCmd": "print(var_dic_list())"
    },
    "r": {
     "delete_cmd_postfix": ") ",
     "delete_cmd_prefix": "rm(",
     "library": "var_list.r",
     "varRefreshCmd": "cat(var_dic_list()) "
    }
   },
   "types_to_exclude": [
    "module",
    "function",
    "builtin_function_or_method",
    "instance",
    "_Feature"
   ],
   "window_display": false
  }
 },
 "nbformat": 4,
 "nbformat_minor": 1
}
